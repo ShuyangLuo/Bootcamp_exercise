{
 "cells": [
  {
   "cell_type": "code",
   "execution_count": 1,
   "metadata": {},
   "outputs": [],
   "source": [
    "hero_name = \"None\""
   ]
  },
  {
   "cell_type": "code",
   "execution_count": 2,
   "metadata": {},
   "outputs": [
    {
     "data": {
      "text/plain": [
       "int"
      ]
     },
     "execution_count": 2,
     "metadata": {},
     "output_type": "execute_result"
    }
   ],
   "source": [
    "health = 100\n",
    "type(health)"
   ]
  },
  {
   "cell_type": "code",
   "execution_count": 3,
   "metadata": {},
   "outputs": [
    {
     "name": "stdout",
     "output_type": "stream",
     "text": [
      "This is a game called \"Dr.Michael VS James\"\n",
      "\n",
      "4 years ago, there is a doctor-hero called DR.MICHAEL.\n",
      "He teaches Python and challenges bad buys around Warwick Land.\n",
      "But in the year of 2021, a really bad buy named James came to Warwick Land.\n",
      "Then someone named Shuyang Luo started the WARWICK LAND WAR \n",
      "James must be beaten down. \n",
      "Dear Dr.Michael, try to show us what you've got\n",
      "\n",
      "To be continued...\n",
      "\n",
      "\tShuyang Luo 2021 Warwick\n"
     ]
    }
   ],
   "source": [
    "hero_name = \"Dr.Michael\"\n",
    "boss_name = \"James\"\n",
    "location = \"Warwick Land\"\n",
    "year = \"2017\"\n",
    "recent_year = \"2021%\"\n",
    "author = \"ShuYaNg Luo\"\n",
    "random_location = \"Wcawrxwgivcsk\"\n",
    "\n",
    "year_long = 2021 - int(year)\n",
    "\n",
    "print(f\"This is a game called \\\"{hero_name} VS {boss_name}\\\"\\n\\n\"\n",
    "f\"{year_long} years ago, there is a doctor-hero called {hero_name.upper()}.\\n\"\n",
    "f\"He teaches Python and challenges bad buys around {location}.\\n\"\n",
    "f\"But in the year of {recent_year.rstrip('%')}, a really bad buy named {boss_name} came to {location}.\\n\"\n",
    "f\"Then someone named {author.title()} started the {location.upper()} WAR \\n\"\n",
    "f\"{boss_name} must be beaten down. \\nDear {hero_name}, try to show us what you\\'ve got\\n\\n\"\n",
    "f\"To be continued...\\n\\n\"\n",
    "f\"\\t{author.title()} {recent_year.rstrip('%')} {random_location[::2]}\")"
   ]
  },
  {
   "cell_type": "code",
   "execution_count": 4,
   "metadata": {},
   "outputs": [
    {
     "data": {
      "text/plain": [
       "['Liping', 'Jordan', 'Mark', 9999999, 1000000000000.9, 'SSR', 'SVIP']"
      ]
     },
     "execution_count": 4,
     "metadata": {},
     "output_type": "execute_result"
    }
   ],
   "source": [
    "inventory = [\"Liping\", \"Jordan\", \"Mark\", 9999999, 1000000000000.9, \"SSR\", \"SVIP\"]\n",
    "inventory"
   ]
  },
  {
   "cell_type": "code",
   "execution_count": 5,
   "metadata": {},
   "outputs": [
    {
     "data": {
      "text/plain": [
       "{'Liping': {'attack': 400,\n",
       "  'special effects': ['return 50% costs'],\n",
       "  'cost': 12},\n",
       " 'Mark': {'attack': 400,\n",
       "  'special effects': 'decrease boss 50% HP',\n",
       "  'cost': 20},\n",
       " 'Jordan': {'attack': 550,\n",
       "  'special effects': 'healing halo, challenger return 20% HP',\n",
       "  'cost': 16}}"
      ]
     },
     "execution_count": 5,
     "metadata": {},
     "output_type": "execute_result"
    }
   ],
   "source": [
    "Pal_cardset = {\n",
    "    \"Liping\" : {\n",
    "        \"attack\" : 400,\n",
    "        \"special effects\" : [\"return 50% costs\"],\n",
    "        \"cost\" : 12\n",
    "    },\n",
    "    \"Mark\" : {\n",
    "        \"attack\" : 400,\n",
    "        \"special effects\" : \"decrease boss 50% HP\",\n",
    "        \"cost\" : 20\n",
    "    },\n",
    "    \"Jordan\" : {\n",
    "        \"attack\" : 550,\n",
    "        \"special effects\" : \"healing halo, challenger return 20% HP\",\n",
    "        \"cost\" : 16\n",
    "    }    \n",
    "}\n",
    "\n",
    "Pal_cardset"
   ]
  },
  {
   "cell_type": "code",
   "execution_count": 6,
   "metadata": {},
   "outputs": [
    {
     "data": {
      "text/plain": [
       "{'Python': {'special effects': 'healing, return 20% HP',\n",
       "  'attack': 500,\n",
       "  'cost': 20},\n",
       " 'SQL': {'special effects': 'return 50 points', 'attack': 300, 'cost': 30},\n",
       " 'Java': {'special effects': \"boss don't understand this, confusing, boss can't attack\",\n",
       "  'attack': 800,\n",
       "  'cost': 16}}"
      ]
     },
     "execution_count": 6,
     "metadata": {},
     "output_type": "execute_result"
    }
   ],
   "source": [
    "Tool_cardset = {\n",
    "    \"Python\" : {\n",
    "        \"special effects\" : \"healing, return 20% HP\",\n",
    "        \"attack\" : 500,\n",
    "        \"cost\" : 20\n",
    "    },\n",
    "    \"SQL\" : {\n",
    "        \"special effects\" : \"return 50 points\",\n",
    "        \"attack\" : 300,\n",
    "        \"cost\" : 30\n",
    "    },\n",
    "    \"Java\" : {\n",
    "        \"special effects\" : \"boss don\\'t understand this, confusing, boss can\\'t attack\",\n",
    "        \"attack\" : 800,\n",
    "        \"cost\" : 16\n",
    "    }  \n",
    "}\n",
    "\n",
    "Tool_cardset"
   ]
  },
  {
   "cell_type": "code",
   "execution_count": 7,
   "metadata": {},
   "outputs": [
    {
     "name": "stdout",
     "output_type": "stream",
     "text": [
      "James: 5000\n",
      "points: 50\n",
      "Challenger: Dr.Michael\n",
      "Your HP: 500\n"
     ]
    }
   ],
   "source": [
    "James = 5000\n",
    "points = 50\n",
    "main_HP = 500\n",
    "print(f\"James: {James}\\npoints: {points}\\nChallenger: {hero_name}\\nYour HP: {main_HP}\")\n"
   ]
  },
  {
   "cell_type": "markdown",
   "metadata": {},
   "source": [
    "# initial status loading...\n",
    "\n",
    "game starts now:\n",
    "\n",
    "James will release toxic each round, cause 50 HP down each character.\n",
    "\n",
    "If challenger's HP become 0, game would be over.\n",
    "\n",
    "Each round will gain 60 points.\n",
    "\n",
    "Each round, you could choose as many pals/tools as you want.\n"
   ]
  },
  {
   "cell_type": "markdown",
   "metadata": {},
   "source": [
    "# Round 1\n",
    "Pal is important"
   ]
  },
  {
   "cell_type": "code",
   "execution_count": 8,
   "metadata": {},
   "outputs": [
    {
     "name": "stdout",
     "output_type": "stream",
     "text": [
      "Liping: {'attack': 400, 'special effects': ['return 50% costs'], 'cost': 12}\n",
      "\n",
      "Mark: {'attack': 400, 'special effects': 'decrease boss 50% HP', 'cost': 20}\n",
      "\n",
      "Jordan: {'attack': 550, 'special effects': 'healing halo, challenger return 20% HP', 'cost': 16}\n",
      "\n"
     ]
    }
   ],
   "source": [
    "print(f\"Liping: {Pal_cardset['Liping']}\\n\")\n",
    "print(f\"Mark: {Pal_cardset['Mark']}\\n\")\n",
    "print(f\"Jordan: {Pal_cardset['Jordan']}\\n\")"
   ]
  },
  {
   "cell_type": "code",
   "execution_count": 9,
   "metadata": {},
   "outputs": [
    {
     "name": "stdout",
     "output_type": "stream",
     "text": [
      "choose your pal: Liping, Mark, Jordan\n"
     ]
    }
   ],
   "source": [
    "choose1 = input(\"choose your pal: \")\n"
   ]
  },
  {
   "cell_type": "code",
   "execution_count": 10,
   "metadata": {},
   "outputs": [
    {
     "name": "stdout",
     "output_type": "stream",
     "text": [
      "Liping blackmailed James, he gave you 6 points back.\n",
      "Mark said to James that James seems fatter recently. It broke his heart. James' HP decreased so much!\n",
      "Jordan created a meme of James, everyone burst into laughters.\n",
      "James: 1550.0\n",
      "points: 68\n",
      "Challenger: Dr.Michael\n",
      "Your HP: 550.0\n"
     ]
    }
   ],
   "source": [
    "if \"Liping\" in choose1:\n",
    "    James = James-400\n",
    "    points = points-6\n",
    "    print(\"Liping blackmailed James, he gave you 6 points back.\")\n",
    "if \"Mark\" in choose1:\n",
    "    James = James-400\n",
    "    James = James*0.5\n",
    "    points = points-20\n",
    "    print(\"Mark said to James that James seems fatter recently. It broke his heart. James\\' HP decreased so much!\")\n",
    "if \"Jordan\" in choose1:\n",
    "    James = James-550\n",
    "    points = points-16\n",
    "    main_HP = main_HP*1.2\n",
    "    print(\"Jordan created a meme of James, everyone burst into laughters.\")\n",
    "\n",
    "main_HP = main_HP-50\n",
    "points = points+60\n",
    "if main_HP <= 0:\n",
    "    print(\"You\\'ve been beaten down by James!\\nGood luck next time!\")\n",
    "if James <= 0:\n",
    "    print(\"Congratulation! You\\'ve beaten down evil James!!!\")\n",
    "else:\n",
    "    print(f\"James: {James}\\npoints: {points}\\nChallenger: {hero_name}\\nYour HP: {main_HP}\")\n"
   ]
  },
  {
   "cell_type": "markdown",
   "metadata": {},
   "source": [
    "# Round 2\n",
    "\n",
    "Tools count as well\n",
    "\n",
    "You can type in as many tools as you want. If you earn enough points."
   ]
  },
  {
   "cell_type": "code",
   "execution_count": 11,
   "metadata": {},
   "outputs": [
    {
     "name": "stdout",
     "output_type": "stream",
     "text": [
      "Python: {'special effects': 'healing, return 20% HP', 'attack': 500, 'cost': 20}\n",
      "\n",
      "SQL: {'special effects': 'return 50 points', 'attack': 300, 'cost': 30}\n",
      "\n",
      "Java: {'special effects': \"boss don't understand this, confusing, boss can't attack\", 'attack': 800, 'cost': 16}\n",
      "\n"
     ]
    }
   ],
   "source": [
    "print(f\"Python: {Tool_cardset['Python']}\\n\")\n",
    "print(f\"SQL: {Tool_cardset['SQL']}\\n\")\n",
    "print(f\"Java: {Tool_cardset['Java']}\\n\")"
   ]
  },
  {
   "cell_type": "code",
   "execution_count": 12,
   "metadata": {},
   "outputs": [
    {
     "name": "stdout",
     "output_type": "stream",
     "text": [
      "choose your tool: Java, Python, SQL\n"
     ]
    }
   ],
   "source": [
    "choose2 = input(\"choose your tool: \")"
   ]
  },
  {
   "cell_type": "code",
   "execution_count": 13,
   "metadata": {},
   "outputs": [
    {
     "name": "stdout",
     "output_type": "stream",
     "text": [
      "James scratched his head, you took the opportunity to refresh yourself.\n",
      "James is familiar with SQL, this attack did't work well!\n",
      "James confused and could not attack you! Great chance!\n",
      "\n",
      "Congratulation! You've beaten down evil James!!!\n",
      "But he was moved by your hard-working! He joined the rest of you, became a mkt teacher.\n",
      "War is over. Peace came to this land again!\n"
     ]
    }
   ],
   "source": [
    "if \"Python\" in choose2:\n",
    "    James = James-500\n",
    "    points = points-20\n",
    "    main_HP = main_HP*1.2\n",
    "    print(\"James scratched his head, you took the opportunity to refresh yourself.\")\n",
    "if \"SQL\" in choose2:\n",
    "    James = James-300\n",
    "    points = points-30\n",
    "    points = points+50\n",
    "    print(\"James is familiar with SQL, this attack did\\'t work well!\")\n",
    "if \"Java\" in choose2:\n",
    "    James = James-800\n",
    "    points = points-16\n",
    "    print(\"James confused and could not attack you! Great chance!\")\n",
    "\n",
    "\n",
    "if \"Java\" in choose2:\n",
    "    main_HP = main_HP\n",
    "else:\n",
    "    main_HP = main_HP-50\n",
    "\n",
    "    \n",
    "points = points+30\n",
    "if main_HP <= 0:\n",
    "    print(\"You\\'ve been beaten down by James!\\nGood luck next time!\")\n",
    "if James <= 0:\n",
    "    print(\"\\nCongratulation! You\\'ve beaten down evil James!!!\\nBut he was moved by your hard-working! He joined the rest of you, became a mkt teacher.\\nWar is over. Peace came to this land again!\")\n",
    "else:\n",
    "    print(f\"James: {James}\\npoints: {points}\\nChallenger: {hero_name}\\nYour HP: {main_HP}\\n\")\n",
    "    print(f\"James still stands! But he was moved by your hard-working! He joined the rest of you, became a mkt teacher.\\nWar is over. Peace came to this land again!\")\n"
   ]
  },
  {
   "cell_type": "markdown",
   "metadata": {},
   "source": [
    "# This is the end..."
   ]
  },
  {
   "cell_type": "code",
   "execution_count": null,
   "metadata": {},
   "outputs": [],
   "source": []
  }
 ],
 "metadata": {
  "kernelspec": {
   "display_name": "Python 3",
   "language": "python",
   "name": "python3"
  },
  "language_info": {
   "codemirror_mode": {
    "name": "ipython",
    "version": 3
   },
   "file_extension": ".py",
   "mimetype": "text/x-python",
   "name": "python",
   "nbconvert_exporter": "python",
   "pygments_lexer": "ipython3",
   "version": "3.7.6"
  }
 },
 "nbformat": 4,
 "nbformat_minor": 4
}
